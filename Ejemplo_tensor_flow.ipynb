{
  "nbformat": 4,
  "nbformat_minor": 0,
  "metadata": {
    "colab": {
      "provenance": []
    },
    "kernelspec": {
      "name": "python3",
      "display_name": "Python 3"
    },
    "language_info": {
      "name": "python"
    }
  },
  "cells": [
    {
      "cell_type": "code",
      "execution_count": 1,
      "metadata": {
        "id": "DkYhs_NoMpKe"
      },
      "outputs": [],
      "source": [
        "import pandas as pd\n",
        "import numpy as np\n",
        "import matplotlib.pyplot as plt\n",
        "import tensorflow as tf\n",
        "import seaborn as sns"
      ]
    },
    {
      "cell_type": "code",
      "source": [
        "# Creación de datos manualmente y convertir a tabla\n",
        "datos = {\"capital\": list(range(10,110,10)), \"beneficio\": list(range(100,1100,100))}\n",
        "df=pd.DataFrame(datos)\n",
        "df"
      ],
      "metadata": {
        "colab": {
          "base_uri": "https://localhost:8080/",
          "height": 363
        },
        "id": "hWO4yYT-M0Rd",
        "outputId": "729a8cf4-f53e-422c-e56d-74ae3ae51ea3"
      },
      "execution_count": 9,
      "outputs": [
        {
          "output_type": "execute_result",
          "data": {
            "text/plain": [
              "   capital  beneficio\n",
              "0       10        100\n",
              "1       20        200\n",
              "2       30        300\n",
              "3       40        400\n",
              "4       50        500\n",
              "5       60        600\n",
              "6       70        700\n",
              "7       80        800\n",
              "8       90        900\n",
              "9      100       1000"
            ],
            "text/html": [
              "\n",
              "  <div id=\"df-99d64908-b490-4cf4-bb32-91dfa4a58f48\">\n",
              "    <div class=\"colab-df-container\">\n",
              "      <div>\n",
              "<style scoped>\n",
              "    .dataframe tbody tr th:only-of-type {\n",
              "        vertical-align: middle;\n",
              "    }\n",
              "\n",
              "    .dataframe tbody tr th {\n",
              "        vertical-align: top;\n",
              "    }\n",
              "\n",
              "    .dataframe thead th {\n",
              "        text-align: right;\n",
              "    }\n",
              "</style>\n",
              "<table border=\"1\" class=\"dataframe\">\n",
              "  <thead>\n",
              "    <tr style=\"text-align: right;\">\n",
              "      <th></th>\n",
              "      <th>capital</th>\n",
              "      <th>beneficio</th>\n",
              "    </tr>\n",
              "  </thead>\n",
              "  <tbody>\n",
              "    <tr>\n",
              "      <th>0</th>\n",
              "      <td>10</td>\n",
              "      <td>100</td>\n",
              "    </tr>\n",
              "    <tr>\n",
              "      <th>1</th>\n",
              "      <td>20</td>\n",
              "      <td>200</td>\n",
              "    </tr>\n",
              "    <tr>\n",
              "      <th>2</th>\n",
              "      <td>30</td>\n",
              "      <td>300</td>\n",
              "    </tr>\n",
              "    <tr>\n",
              "      <th>3</th>\n",
              "      <td>40</td>\n",
              "      <td>400</td>\n",
              "    </tr>\n",
              "    <tr>\n",
              "      <th>4</th>\n",
              "      <td>50</td>\n",
              "      <td>500</td>\n",
              "    </tr>\n",
              "    <tr>\n",
              "      <th>5</th>\n",
              "      <td>60</td>\n",
              "      <td>600</td>\n",
              "    </tr>\n",
              "    <tr>\n",
              "      <th>6</th>\n",
              "      <td>70</td>\n",
              "      <td>700</td>\n",
              "    </tr>\n",
              "    <tr>\n",
              "      <th>7</th>\n",
              "      <td>80</td>\n",
              "      <td>800</td>\n",
              "    </tr>\n",
              "    <tr>\n",
              "      <th>8</th>\n",
              "      <td>90</td>\n",
              "      <td>900</td>\n",
              "    </tr>\n",
              "    <tr>\n",
              "      <th>9</th>\n",
              "      <td>100</td>\n",
              "      <td>1000</td>\n",
              "    </tr>\n",
              "  </tbody>\n",
              "</table>\n",
              "</div>\n",
              "      <button class=\"colab-df-convert\" onclick=\"convertToInteractive('df-99d64908-b490-4cf4-bb32-91dfa4a58f48')\"\n",
              "              title=\"Convert this dataframe to an interactive table.\"\n",
              "              style=\"display:none;\">\n",
              "        \n",
              "  <svg xmlns=\"http://www.w3.org/2000/svg\" height=\"24px\"viewBox=\"0 0 24 24\"\n",
              "       width=\"24px\">\n",
              "    <path d=\"M0 0h24v24H0V0z\" fill=\"none\"/>\n",
              "    <path d=\"M18.56 5.44l.94 2.06.94-2.06 2.06-.94-2.06-.94-.94-2.06-.94 2.06-2.06.94zm-11 1L8.5 8.5l.94-2.06 2.06-.94-2.06-.94L8.5 2.5l-.94 2.06-2.06.94zm10 10l.94 2.06.94-2.06 2.06-.94-2.06-.94-.94-2.06-.94 2.06-2.06.94z\"/><path d=\"M17.41 7.96l-1.37-1.37c-.4-.4-.92-.59-1.43-.59-.52 0-1.04.2-1.43.59L10.3 9.45l-7.72 7.72c-.78.78-.78 2.05 0 2.83L4 21.41c.39.39.9.59 1.41.59.51 0 1.02-.2 1.41-.59l7.78-7.78 2.81-2.81c.8-.78.8-2.07 0-2.86zM5.41 20L4 18.59l7.72-7.72 1.47 1.35L5.41 20z\"/>\n",
              "  </svg>\n",
              "      </button>\n",
              "      \n",
              "  <style>\n",
              "    .colab-df-container {\n",
              "      display:flex;\n",
              "      flex-wrap:wrap;\n",
              "      gap: 12px;\n",
              "    }\n",
              "\n",
              "    .colab-df-convert {\n",
              "      background-color: #E8F0FE;\n",
              "      border: none;\n",
              "      border-radius: 50%;\n",
              "      cursor: pointer;\n",
              "      display: none;\n",
              "      fill: #1967D2;\n",
              "      height: 32px;\n",
              "      padding: 0 0 0 0;\n",
              "      width: 32px;\n",
              "    }\n",
              "\n",
              "    .colab-df-convert:hover {\n",
              "      background-color: #E2EBFA;\n",
              "      box-shadow: 0px 1px 2px rgba(60, 64, 67, 0.3), 0px 1px 3px 1px rgba(60, 64, 67, 0.15);\n",
              "      fill: #174EA6;\n",
              "    }\n",
              "\n",
              "    [theme=dark] .colab-df-convert {\n",
              "      background-color: #3B4455;\n",
              "      fill: #D2E3FC;\n",
              "    }\n",
              "\n",
              "    [theme=dark] .colab-df-convert:hover {\n",
              "      background-color: #434B5C;\n",
              "      box-shadow: 0px 1px 3px 1px rgba(0, 0, 0, 0.15);\n",
              "      filter: drop-shadow(0px 1px 2px rgba(0, 0, 0, 0.3));\n",
              "      fill: #FFFFFF;\n",
              "    }\n",
              "  </style>\n",
              "\n",
              "      <script>\n",
              "        const buttonEl =\n",
              "          document.querySelector('#df-99d64908-b490-4cf4-bb32-91dfa4a58f48 button.colab-df-convert');\n",
              "        buttonEl.style.display =\n",
              "          google.colab.kernel.accessAllowed ? 'block' : 'none';\n",
              "\n",
              "        async function convertToInteractive(key) {\n",
              "          const element = document.querySelector('#df-99d64908-b490-4cf4-bb32-91dfa4a58f48');\n",
              "          const dataTable =\n",
              "            await google.colab.kernel.invokeFunction('convertToInteractive',\n",
              "                                                     [key], {});\n",
              "          if (!dataTable) return;\n",
              "\n",
              "          const docLinkHtml = 'Like what you see? Visit the ' +\n",
              "            '<a target=\"_blank\" href=https://colab.research.google.com/notebooks/data_table.ipynb>data table notebook</a>'\n",
              "            + ' to learn more about interactive tables.';\n",
              "          element.innerHTML = '';\n",
              "          dataTable['output_type'] = 'display_data';\n",
              "          await google.colab.output.renderOutput(dataTable, element);\n",
              "          const docLink = document.createElement('div');\n",
              "          docLink.innerHTML = docLinkHtml;\n",
              "          element.appendChild(docLink);\n",
              "        }\n",
              "      </script>\n",
              "    </div>\n",
              "  </div>\n",
              "  "
            ]
          },
          "metadata": {},
          "execution_count": 9
        }
      ]
    },
    {
      "cell_type": "code",
      "source": [
        "# Representación gráfica de los datos\n",
        "plt.plot(df[\"capital\"], df[\"beneficio\"], \"r-\")\n",
        "plt.xlabel(\"Capital\")\n",
        "plt.ylabel(\"Beneficio\")\n",
        "plt.title(\"Beneficio según capital\")"
      ],
      "metadata": {
        "colab": {
          "base_uri": "https://localhost:8080/",
          "height": 489
        },
        "id": "PMJxquKcNPE-",
        "outputId": "64f7acee-bcc7-4a7d-e978-9a3ad4493a9f"
      },
      "execution_count": 22,
      "outputs": [
        {
          "output_type": "execute_result",
          "data": {
            "text/plain": [
              "Text(0.5, 1.0, 'Beneficio según capital')"
            ]
          },
          "metadata": {},
          "execution_count": 22
        },
        {
          "output_type": "display_data",
          "data": {
            "text/plain": [
              "<Figure size 640x480 with 1 Axes>"
            ],
            "image/png": "[encoded data removed]"
          },
          "metadata": {}
        }
      ]
    },
    {
      "cell_type": "code",
      "source": [
        "# Partición de datos en variable de entrada (input) y variable de salida (output)\n",
        "x_train= df[\"capital\"]\n",
        "y_train=df[\"beneficio\"]\n",
        "print(f\"{x_train.name} - {y_train.name}\")"
      ],
      "metadata": {
        "colab": {
          "base_uri": "https://localhost:8080/"
        },
        "id": "S2dZzqQVNPh0",
        "outputId": "7fbe4f51-f80c-4cbd-cda1-abc76622338e"
      },
      "execution_count": 34,
      "outputs": [
        {
          "output_type": "stream",
          "name": "stdout",
          "text": [
            "capital - beneficio\n"
          ]
        }
      ]
    },
    {
      "cell_type": "code",
      "source": [
        "# Instanciamos el modelo Deep Learning\n",
        "model = tf.keras.Sequential()"
      ],
      "metadata": {
        "id": "EuypETWnOgyk"
      },
      "execution_count": 35,
      "outputs": []
    },
    {
      "cell_type": "code",
      "source": [
        "# Configuramos los parámetros 1 neurona y 1 variable de entrada (input)\n",
        "model.add(tf.keras.layers.Dense(units=1, input_shape=[1]))"
      ],
      "metadata": {
        "id": "MjEa28L6PBnM"
      },
      "execution_count": 38,
      "outputs": []
    },
    {
      "cell_type": "code",
      "source": [
        "model.summary()"
      ],
      "metadata": {
        "colab": {
          "base_uri": "https://localhost:8080/"
        },
        "id": "E-DIpTIdPCis",
        "outputId": "9a6e9312-24fb-4ae9-f89d-f24d02823cf8"
      },
      "execution_count": 39,
      "outputs": [
        {
          "output_type": "stream",
          "name": "stdout",
          "text": [
            "Model: \"sequential\"\n",
            "_________________________________________________________________\n",
            " Layer (type)                Output Shape              Param #   \n",
            "=================================================================\n",
            " dense (Dense)               (None, 1)                 2         \n",
            "                                                                 \n",
            "=================================================================\n",
            "Total params: 2\n",
            "Trainable params: 2\n",
            "Non-trainable params: 0\n",
            "_________________________________________________________________\n"
          ]
        }
      ]
    },
    {
      "cell_type": "code",
      "source": [
        "# Definimos el optimizador y el formato de la pérdida\n",
        "model.compile(optimizer=tf.keras.optimizers.Adam(1), loss=\"mean_squared_error\")"
      ],
      "metadata": {
        "id": "g7mSGhO1PclU"
      },
      "execution_count": 51,
      "outputs": []
    },
    {
      "cell_type": "code",
      "source": [
        "# Añadimos las variables al modelo e indicamos las \"épocas\"\n",
        "epochs_hist = model.fit(x_train, y_train, epochs=100)"
      ],
      "metadata": {
        "colab": {
          "base_uri": "https://localhost:8080/"
        },
        "id": "H-Mqrh1uP0dM",
        "outputId": "07af7505-f24f-41a3-9aa1-2ece822d36c8"
      },
      "execution_count": 52,
      "outputs": [
        {
          "output_type": "stream",
          "name": "stdout",
          "text": [
            "Epoch 1/100\n",
            "1/1 [==============================] - 0s 363ms/step - loss: 16.2327\n",
            "Epoch 2/100\n",
            "1/1 [==============================] - 0s 12ms/step - loss: 3742.8789\n",
            "Epoch 3/100\n",
            "1/1 [==============================] - 0s 9ms/step - loss: 214.3340\n",
            "Epoch 4/100\n",
            "1/1 [==============================] - 0s 8ms/step - loss: 914.4256\n",
            "Epoch 5/100\n",
            "1/1 [==============================] - 0s 8ms/step - loss: 2222.2090\n",
            "Epoch 6/100\n",
            "1/1 [==============================] - 0s 8ms/step - loss: 1582.9192\n",
            "Epoch 7/100\n",
            "1/1 [==============================] - 0s 11ms/step - loss: 404.3157\n",
            "Epoch 8/100\n",
            "1/1 [==============================] - 0s 8ms/step - loss: 22.7875\n",
            "Epoch 9/100\n",
            "1/1 [==============================] - 0s 8ms/step - loss: 549.7100\n",
            "Epoch 10/100\n",
            "1/1 [==============================] - 0s 9ms/step - loss: 1083.7606\n",
            "Epoch 11/100\n",
            "1/1 [==============================] - 0s 8ms/step - loss: 978.4608\n",
            "Epoch 12/100\n",
            "1/1 [==============================] - 0s 7ms/step - loss: 447.0702\n",
            "Epoch 13/100\n",
            "1/1 [==============================] - 0s 7ms/step - loss: 46.1680\n",
            "Epoch 14/100\n",
            "1/1 [==============================] - 0s 6ms/step - loss: 87.1074\n",
            "Epoch 15/100\n",
            "1/1 [==============================] - 0s 6ms/step - loss: 405.9029\n",
            "Epoch 16/100\n",
            "1/1 [==============================] - 0s 5ms/step - loss: 600.1040\n",
            "Epoch 17/100\n",
            "1/1 [==============================] - 0s 7ms/step - loss: 477.0480\n",
            "Epoch 18/100\n",
            "1/1 [==============================] - 0s 6ms/step - loss: 189.8700\n",
            "Epoch 19/100\n",
            "1/1 [==============================] - 0s 17ms/step - loss: 13.9585\n",
            "Epoch 20/100\n",
            "1/1 [==============================] - 0s 5ms/step - loss: 73.6647\n",
            "Epoch 21/100\n",
            "1/1 [==============================] - 0s 8ms/step - loss: 250.2452\n",
            "Epoch 22/100\n",
            "1/1 [==============================] - 0s 8ms/step - loss: 333.0443\n",
            "Epoch 23/100\n",
            "1/1 [==============================] - 0s 8ms/step - loss: 242.5236\n",
            "Epoch 24/100\n",
            "1/1 [==============================] - 0s 10ms/step - loss: 82.6067\n",
            "Epoch 25/100\n",
            "1/1 [==============================] - 0s 7ms/step - loss: 6.8409\n",
            "Epoch 26/100\n",
            "1/1 [==============================] - 0s 8ms/step - loss: 62.8840\n",
            "Epoch 27/100\n",
            "1/1 [==============================] - 0s 13ms/step - loss: 161.1803\n",
            "Epoch 28/100\n",
            "1/1 [==============================] - 0s 7ms/step - loss: 185.2064\n",
            "Epoch 29/100\n",
            "1/1 [==============================] - 0s 8ms/step - loss: 114.2314\n",
            "Epoch 30/100\n",
            "1/1 [==============================] - 0s 7ms/step - loss: 28.0361\n",
            "Epoch 31/100\n",
            "1/1 [==============================] - 0s 7ms/step - loss: 9.4665\n",
            "Epoch 32/100\n",
            "1/1 [==============================] - 0s 6ms/step - loss: 59.1380\n",
            "Epoch 33/100\n",
            "1/1 [==============================] - 0s 6ms/step - loss: 106.7603\n",
            "Epoch 34/100\n",
            "1/1 [==============================] - 0s 7ms/step - loss: 96.2047\n",
            "Epoch 35/100\n",
            "1/1 [==============================] - 0s 5ms/step - loss: 43.1365\n",
            "Epoch 36/100\n",
            "1/1 [==============================] - 0s 6ms/step - loss: 6.6597\n",
            "Epoch 37/100\n",
            "1/1 [==============================] - 0s 7ms/step - loss: 18.8533\n",
            "Epoch 38/100\n",
            "1/1 [==============================] - 0s 6ms/step - loss: 53.8061\n",
            "Epoch 39/100\n",
            "1/1 [==============================] - 0s 8ms/step - loss: 64.9385\n",
            "Epoch 40/100\n",
            "1/1 [==============================] - 0s 7ms/step - loss: 40.2648\n",
            "Epoch 41/100\n",
            "1/1 [==============================] - 0s 6ms/step - loss: 10.3906\n",
            "Epoch 42/100\n",
            "1/1 [==============================] - 0s 6ms/step - loss: 7.1274\n",
            "Epoch 43/100\n",
            "1/1 [==============================] - 0s 6ms/step - loss: 26.8965\n",
            "Epoch 44/100\n",
            "1/1 [==============================] - 0s 7ms/step - loss: 40.2435\n",
            "Epoch 45/100\n",
            "1/1 [==============================] - 0s 7ms/step - loss: 30.2796\n",
            "Epoch 46/100\n",
            "1/1 [==============================] - 0s 6ms/step - loss: 10.6004\n",
            "Epoch 47/100\n",
            "1/1 [==============================] - 0s 4ms/step - loss: 4.3060\n",
            "Epoch 48/100\n",
            "1/1 [==============================] - 0s 6ms/step - loss: 14.8295\n",
            "Epoch 49/100\n",
            "1/1 [==============================] - 0s 7ms/step - loss: 24.8294\n",
            "Epoch 50/100\n",
            "1/1 [==============================] - 0s 8ms/step - loss: 20.6132\n",
            "Epoch 51/100\n",
            "1/1 [==============================] - 0s 9ms/step - loss: 8.4089\n",
            "Epoch 52/100\n",
            "1/1 [==============================] - 0s 7ms/step - loss: 3.4530\n",
            "Epoch 53/100\n",
            "1/1 [==============================] - 0s 7ms/step - loss: 9.4953\n",
            "Epoch 54/100\n",
            "1/1 [==============================] - 0s 7ms/step - loss: 15.8780\n",
            "Epoch 55/100\n",
            "1/1 [==============================] - 0s 7ms/step - loss: 13.3815\n",
            "Epoch 56/100\n",
            "1/1 [==============================] - 0s 7ms/step - loss: 5.8100\n",
            "Epoch 57/100\n",
            "1/1 [==============================] - 0s 9ms/step - loss: 2.9714\n",
            "Epoch 58/100\n",
            "1/1 [==============================] - 0s 8ms/step - loss: 6.9383\n",
            "Epoch 59/100\n",
            "1/1 [==============================] - 0s 7ms/step - loss: 10.5661\n",
            "Epoch 60/100\n",
            "1/1 [==============================] - 0s 8ms/step - loss: 8.4234\n",
            "Epoch 61/100\n",
            "1/1 [==============================] - 0s 8ms/step - loss: 3.7434\n",
            "Epoch 62/100\n",
            "1/1 [==============================] - 0s 7ms/step - loss: 2.6703\n",
            "Epoch 63/100\n",
            "1/1 [==============================] - 0s 8ms/step - loss: 5.4806\n",
            "Epoch 64/100\n",
            "1/1 [==============================] - 0s 7ms/step - loss: 7.1585\n",
            "Epoch 65/100\n",
            "1/1 [==============================] - 0s 7ms/step - loss: 5.1341\n",
            "Epoch 66/100\n",
            "1/1 [==============================] - 0s 7ms/step - loss: 2.4236\n",
            "Epoch 67/100\n",
            "1/1 [==============================] - 0s 7ms/step - loss: 2.5166\n",
            "Epoch 68/100\n",
            "1/1 [==============================] - 0s 7ms/step - loss: 4.4153\n",
            "Epoch 69/100\n",
            "1/1 [==============================] - 0s 8ms/step - loss: 4.7766\n",
            "Epoch 70/100\n",
            "1/1 [==============================] - 0s 6ms/step - loss: 3.0370\n",
            "Epoch 71/100\n",
            "1/1 [==============================] - 0s 8ms/step - loss: 1.7516\n",
            "Epoch 72/100\n",
            "1/1 [==============================] - 0s 12ms/step - loss: 2.4066\n",
            "Epoch 73/100\n",
            "1/1 [==============================] - 0s 7ms/step - loss: 3.4491\n",
            "Epoch 74/100\n",
            "1/1 [==============================] - 0s 8ms/step - loss: 3.0489\n",
            "Epoch 75/100\n",
            "1/1 [==============================] - 0s 8ms/step - loss: 1.8199\n",
            "Epoch 76/100\n",
            "1/1 [==============================] - 0s 8ms/step - loss: 1.5057\n",
            "Epoch 77/100\n",
            "1/1 [==============================] - 0s 8ms/step - loss: 2.2086\n",
            "Epoch 78/100\n",
            "1/1 [==============================] - 0s 6ms/step - loss: 2.5123\n",
            "Epoch 79/100\n",
            "1/1 [==============================] - 0s 6ms/step - loss: 1.8569\n",
            "Epoch 80/100\n",
            "1/1 [==============================] - 0s 7ms/step - loss: 1.2360\n",
            "Epoch 81/100\n",
            "1/1 [==============================] - 0s 7ms/step - loss: 1.4292\n",
            "Epoch 82/100\n",
            "1/1 [==============================] - 0s 7ms/step - loss: 1.8502\n",
            "Epoch 83/100\n",
            "1/1 [==============================] - 0s 7ms/step - loss: 1.6754\n",
            "Epoch 84/100\n",
            "1/1 [==============================] - 0s 8ms/step - loss: 1.1512\n",
            "Epoch 85/100\n",
            "1/1 [==============================] - 0s 7ms/step - loss: 1.0299\n",
            "Epoch 86/100\n",
            "1/1 [==============================] - 0s 7ms/step - loss: 1.3127\n",
            "Epoch 87/100\n",
            "1/1 [==============================] - 0s 7ms/step - loss: 1.3753\n",
            "Epoch 88/100\n",
            "1/1 [==============================] - 0s 7ms/step - loss: 1.0557\n",
            "Epoch 89/100\n",
            "1/1 [==============================] - 0s 9ms/step - loss: 0.8305\n",
            "Epoch 90/100\n",
            "1/1 [==============================] - 0s 5ms/step - loss: 0.9485\n",
            "Epoch 91/100\n",
            "1/1 [==============================] - 0s 10ms/step - loss: 1.0719\n",
            "Epoch 92/100\n",
            "1/1 [==============================] - 0s 6ms/step - loss: 0.9188\n",
            "Epoch 93/100\n",
            "1/1 [==============================] - 0s 6ms/step - loss: 0.7074\n",
            "Epoch 94/100\n",
            "1/1 [==============================] - 0s 8ms/step - loss: 0.7163\n",
            "Epoch 95/100\n",
            "1/1 [==============================] - 0s 7ms/step - loss: 0.8206\n",
            "Epoch 96/100\n",
            "1/1 [==============================] - 0s 7ms/step - loss: 0.7650\n",
            "Epoch 97/100\n",
            "1/1 [==============================] - 0s 6ms/step - loss: 0.6060\n",
            "Epoch 98/100\n",
            "1/1 [==============================] - 0s 8ms/step - loss: 0.5641\n",
            "Epoch 99/100\n",
            "1/1 [==============================] - 0s 6ms/step - loss: 0.6299\n",
            "Epoch 100/100\n",
            "1/1 [==============================] - 0s 8ms/step - loss: 0.6193\n"
          ]
        }
      ]
    },
    {
      "cell_type": "code",
      "source": [
        "# Identificamos la clave del diccionario para representación gráfica\n",
        "epochs_hist.history.keys()"
      ],
      "metadata": {
        "colab": {
          "base_uri": "https://localhost:8080/"
        },
        "id": "ABf-tQChQWDw",
        "outputId": "1bcba2de-502e-40a5-fe9a-5e1da6ba47ec"
      },
      "execution_count": 53,
      "outputs": [
        {
          "output_type": "execute_result",
          "data": {
            "text/plain": [
              "dict_keys(['loss'])"
            ]
          },
          "metadata": {},
          "execution_count": 53
        }
      ]
    },
    {
      "cell_type": "code",
      "source": [
        "# Representación gráfica del error\n",
        "plt.plot(epochs_hist.history['loss'])\n",
        "plt.title(\"Evolución del error durante el entrenamiento\")\n",
        "plt.xlabel(\"Epoch\")\n",
        "plt.ylabel(\"Pérdida\")\n",
        "plt.legend(\"Pérdida entrenamiento\")"
      ],
      "metadata": {
        "colab": {
          "base_uri": "https://localhost:8080/",
          "height": 489
        },
        "id": "AiV4mulgQ1dT",
        "outputId": "905eada8-643a-46ca-f878-a47ea6020277"
      },
      "execution_count": 54,
      "outputs": [
        {
          "output_type": "execute_result",
          "data": {
            "text/plain": [
              "<matplotlib.legend.Legend at 0x7fc68bf65f90>"
            ]
          },
          "metadata": {},
          "execution_count": 54
        },
        {
          "output_type": "display_data",
          "data": {
            "text/plain": [
              "<Figure size 640x480 with 1 Axes>"
            ],
            "image/png": "[encoded data removed]"
          },
          "metadata": {}
        }
      ]
    },
    {
      "cell_type": "code",
      "source": [
        "# Mostramos el peso del modelo\n",
        "model.get_weights()"
      ],
      "metadata": {
        "colab": {
          "base_uri": "https://localhost:8080/"
        },
        "id": "2Z6yrYTcQ-1D",
        "outputId": "476a2b7c-31a4-4a50-ebae-a8e3d44921b4"
      },
      "execution_count": 55,
      "outputs": [
        {
          "output_type": "execute_result",
          "data": {
            "text/plain": [
              "[array([[9.981633]], dtype=float32), array([1.4931765], dtype=float32)]"
            ]
          },
          "metadata": {},
          "execution_count": 55
        }
      ]
    },
    {
      "cell_type": "code",
      "source": [
        "# Calculamos error de la predicción\n",
        "capital = 55\n",
        "beneficio = model.predict([capital])\n",
        "print(beneficio)"
      ],
      "metadata": {
        "colab": {
          "base_uri": "https://localhost:8080/"
        },
        "id": "KBsiTX_cRqqE",
        "outputId": "e5edf6d0-f670-4a48-b1a2-1447e6cfac0e"
      },
      "execution_count": 88,
      "outputs": [
        {
          "output_type": "stream",
          "name": "stdout",
          "text": [
            "1/1 [==============================] - 0s 144ms/step\n",
            "[[550.483]]\n"
          ]
        }
      ]
    },
    {
      "cell_type": "code",
      "source": [
        "# Mostramos error por pantalla\n",
        "print(f\"Error: {((beneficio-(capital*10))/(capital*10))}\")"
      ],
      "metadata": {
        "colab": {
          "base_uri": "https://localhost:8080/"
        },
        "id": "ZcGmVggxSS4k",
        "outputId": "c6115237-ba81-4e37-fb25-46db91061bfc"
      },
      "execution_count": 89,
      "outputs": [
        {
          "output_type": "stream",
          "name": "stdout",
          "text": [
            "Error: [[0.00087813]]\n"
          ]
        }
      ]
    },
    {
      "cell_type": "code",
      "source": [
        "# Calculamos error porcentual\n",
        "beneficio_esperado = capital*10\n",
        "error_predict= (beneficio-beneficio_esperado)/beneficio_esperado\n",
        "print(error_predict[0][0]*100,\"%\")"
      ],
      "metadata": {
        "colab": {
          "base_uri": "https://localhost:8080/"
        },
        "id": "i3jlmbWTTJnF",
        "outputId": "f1a0ab25-56ab-446f-b057-04609cb4c408"
      },
      "execution_count": 90,
      "outputs": [
        {
          "output_type": "stream",
          "name": "stdout",
          "text": [
            "0.08781294454820454 %\n"
          ]
        }
      ]
    },
    {
      "cell_type": "code",
      "source": [
        "# Representación gráfica de la predicción sobre el histórico original\n",
        "plt.plot(capital, beneficio, \"bx\")\n",
        "plt.plot(df[\"capital\"], df[\"beneficio\"], \"r-\")\n",
        "plt.xlabel(\"Capital\")\n",
        "plt.ylabel(\"Beneficio\")\n",
        "plt.legend(beneficio)\n",
        "plt.title(\"Beneficio para Preddicción Capital = {}\".format(capital))"
      ],
      "metadata": {
        "colab": {
          "base_uri": "https://localhost:8080/",
          "height": 489
        },
        "id": "hFDS_J5PYiUh",
        "outputId": "232d7e1a-df81-48a2-d872-17f987101168"
      },
      "execution_count": 121,
      "outputs": [
        {
          "output_type": "execute_result",
          "data": {
            "text/plain": [
              "Text(0.5, 1.0, 'Beneficio para Preddicción Capital = 55')"
            ]
          },
          "metadata": {},
          "execution_count": 121
        },
        {
          "output_type": "display_data",
          "data": {
            "text/plain": [
              "<Figure size 640x480 with 1 Axes>"
            ],
            "image/png": "[encoded data removed]"
          },
          "metadata": {}
        }
      ]
    }
  ]
}